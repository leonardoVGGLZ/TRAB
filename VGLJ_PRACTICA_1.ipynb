{
  "nbformat": 4,
  "nbformat_minor": 0,
  "metadata": {
    "colab": {
      "provenance": [],
      "toc_visible": true,
      "authorship_tag": "ABX9TyPwKGbHY+YSyQUNLxrdqos1",
      "include_colab_link": true
    },
    "kernelspec": {
      "name": "python3",
      "display_name": "Python 3"
    },
    "language_info": {
      "name": "python"
    }
  },
  "cells": [
    {
      "cell_type": "markdown",
      "metadata": {
        "id": "view-in-github",
        "colab_type": "text"
      },
      "source": [
        "<a href=\"https://colab.research.google.com/github/leonardoVGGLZ/TRAB/blob/main/VGLJ_PRACTICA_1.ipynb\" target=\"_parent\"><img src=\"https://colab.research.google.com/assets/colab-badge.svg\" alt=\"Open In Colab\"/></a>"
      ]
    },
    {
      "cell_type": "code",
      "execution_count": null,
      "metadata": {
        "id": "Z_EcAgpCrI4y"
      },
      "outputs": [],
      "source": []
    },
    {
      "cell_type": "code",
      "source": [
        "#solicita al usuario ingresar su nombre\n",
        "alias = input (\"Ingrese su nombre\")\n",
        "\n",
        "#imprime un mensaje utlizando la vaiable\n",
        "print (\"hoa knal \"+ alias +\". ¡Bienvenido herman@!\")\n",
        "\n",
        "#uso de variables para calculos simples\n",
        "edad = int (input(\"ingrese su edad compa ;)\"))\n",
        "edad_en_10_anios= edad + 10\n",
        "\n",
        "#imprime el resultado\n",
        "print (\"en 10 años tendras\", edad_en_10_anios,\"años\")"
      ],
      "metadata": {
        "colab": {
          "base_uri": "https://localhost:8080/"
        },
        "id": "8pHVDXHBrgud",
        "outputId": "7c17ce93-c64e-4743-9486-ff299d862f14"
      },
      "execution_count": 12,
      "outputs": [
        {
          "output_type": "stream",
          "name": "stdout",
          "text": [
            "Ingrese su nombreleo\n",
            "hoa knal leo. ¡Bienvenido herman@!\n",
            "ingrese su edad compa ;)16\n",
            "en 10 años tendras 26 años\n"
          ]
        }
      ]
    },
    {
      "cell_type": "code",
      "source": [
        "#definicon de varibles\n",
        "nombre=\"Leonardo\"\n",
        "edad= 16\n",
        "estatura = 1.59\n",
        "\n",
        "#imprime la informacion utulizando las vrale\n",
        "\n",
        "print(\"Nombre\",nombre)\n",
        "print(\"Edad \",edad, \"años \")\n",
        "print (\"Estatura\",estatura,\"Metros\")\n",
        "\n",
        "#Realiza operaciones numericas\n",
        "\n",
        "suma_edad_estatura = edad+ estatura\n",
        "resta_edad_estatura= edad-estatura\n",
        "multiplicacion_edad_estaura= edad*estatura\n",
        "division_edad_estatura=edad/estatura\n",
        "\n",
        "#imprime los resultados de las operaciones\n",
        "\n",
        "print(\"suma de dad y estatura : \",suma_edad_estatura)\n",
        "print(\"Resta de Edad y Estatua :\",resta_edad_estatura)\n",
        "print(\"Multilicacion de Edad y Estatura :\" ,multiplicacion_edad_estaura)\n",
        "print(\"Division de Edad y Estatura : \",division_edad_estatura)\n"
      ],
      "metadata": {
        "colab": {
          "base_uri": "https://localhost:8080/"
        },
        "id": "7-SAGWNqtkTG",
        "outputId": "50acd684-fcd0-41cb-d22b-212cccc35edd"
      },
      "execution_count": 13,
      "outputs": [
        {
          "output_type": "stream",
          "name": "stdout",
          "text": [
            "Nombre Leonardo\n",
            "Edad  16 años \n",
            "Estatura 1.59 Metros\n",
            "suma de dad y estatura :  17.59\n",
            "Resta de Edad y Estatua : 14.41\n",
            "Multilicacion de Edad y Estatura : 25.44\n",
            "Division de Edad y Estatura :  10.062893081761006\n"
          ]
        }
      ]
    },
    {
      "cell_type": "code",
      "source": [
        "#uso de vatiables para almaenar la infotmacion\n",
        "pais=\"EE.UU\"\n",
        "capital=\"Washington D. C.\"\n",
        "poblacion=\"331,9 millones\"\n",
        "\n",
        "#Imprime informacion utlizando las variables\n",
        "print (\"Pais \",pais)\n",
        "print(\"Capital\",capital)\n",
        "print(\"Poblacion\",poblacion)\n",
        "\n",
        "#solicita al usuario ingresar un numero\n",
        "numero_ingresado=float(input(\"ingresa un numero decimal:\"))\n",
        "\n",
        "#realiza una operacion con el numeo ingresado\n",
        "resultado = numero_ingresado *2\n",
        "\n",
        "#Impime el resultado\n",
        "\n",
        "print (\"El doble del numero ingresado es: \",resultado)\n",
        "\n",
        "\n",
        "\n",
        "\n",
        "\n",
        "\n"
      ],
      "metadata": {
        "colab": {
          "base_uri": "https://localhost:8080/"
        },
        "id": "XrrFUgqYwb6P",
        "outputId": "da7f5a16-cced-47d8-899d-0b912f6415de"
      },
      "execution_count": 14,
      "outputs": [
        {
          "output_type": "stream",
          "name": "stdout",
          "text": [
            "Pais  EE.UU\n",
            "Capital Washington D. C.\n",
            "Poblacion 331,9 millones\n",
            "ingresa un numero decimal:2.5\n",
            "El doble del numero ingresado es:  5.0\n"
          ]
        }
      ]
    },
    {
      "cell_type": "code",
      "source": [],
      "metadata": {
        "id": "_b31uTy7wHx2"
      },
      "execution_count": null,
      "outputs": []
    }
  ]
}